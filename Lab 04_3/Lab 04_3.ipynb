{
 "metadata": {
  "kernelspec": {
   "display_name": "Streamlit Notebook",
   "name": "streamlit"
  },
  "lastEditStatus": {
   "notebookId": "g3hmvw6rjyfmhpdcdu5f",
   "authorId": "1862636791025",
   "authorName": "PBOAL2",
   "authorEmail": "pboal@wustl.edu",
   "sessionId": "eecbdd46-21e7-4b80-9477-dcc1ed8fa35c",
   "lastEditTime": 1758600940791
  }
 },
 "nbformat_minor": 5,
 "nbformat": 4,
 "cells": [
  {
   "cell_type": "markdown",
   "id": "39895bf5-e75d-4d73-9900-89cddd9f3164",
   "metadata": {
    "name": "intro",
    "collapsed": false
   },
   "source": "# Lab 4 - Section 3: Regression\n\n1.\tBuild a linear regression of to see whether height predicts weight. There are [two main modules](https://towardsdatascience.com/five-regression-python-modules-that-every-data-scientist-must-know-a4e03a886853/) for conducting linear regression in Python. Use statsmodels. Explain the results. \n2.\tFit the same regression model using linear algebra. Compare your resultant $$\\beta$$’s to the ones you obtained earlier. \n"
  },
  {
   "cell_type": "code",
   "id": "3775908f-ca36-4846-8f38-5adca39217f2",
   "metadata": {
    "language": "python",
    "name": "imports"
   },
   "source": "import pandas as pd\nimport statsmodels \nimport sklearn\nimport statsmodels.api as sm\nimport numpy as np",
   "execution_count": null,
   "outputs": []
  },
  {
   "cell_type": "code",
   "id": "c695373e-ac74-4b62-a1f1-08206cbd5c81",
   "metadata": {
    "language": "python",
    "name": "data",
    "codeCollapsed": false
   },
   "source": "males = pd.read_csv('males_ht_wt_cntry.csv')",
   "execution_count": null,
   "outputs": []
  },
  {
   "cell_type": "markdown",
   "id": "d8cdf519-7ffc-454c-97de-4aa193899726",
   "metadata": {
    "name": "_sklearn",
    "collapsed": false
   },
   "source": "### Using sklearn"
  },
  {
   "cell_type": "code",
   "id": "fb8097e2-2c8f-4c8c-b3ad-12c443db1a96",
   "metadata": {
    "language": "python",
    "name": "sklearn1",
    "codeCollapsed": false
   },
   "outputs": [],
   "source": "from sklearn import linear_model\n\nlinmodel = linear_model.LinearRegression(fit_intercept=True)\nlinmodel.fit(males['Height'].to_numpy().reshape(-1, 1), males['Weight'].to_numpy())\n\nb0 = linmodel.intercept_\nb1 = linmodel.coef_[0]\n\nprint(f'b0 : {b0:.3f}')\nprint(f'b1 : {b1:.3f}')",
   "execution_count": null
  },
  {
   "cell_type": "markdown",
   "id": "ed89e7ef-a41d-450d-9ff0-211d2b05711a",
   "metadata": {
    "name": "_statsmodels",
    "collapsed": false
   },
   "source": "### Using statsmodels"
  },
  {
   "cell_type": "code",
   "id": "40738528-1491-4f6c-a2b2-438f352cf667",
   "metadata": {
    "language": "python",
    "name": "statsmodels1"
   },
   "outputs": [],
   "source": "import statsmodels.api as sm\n\nx = males['Height'].to_numpy()\ny = males['Weight'].to_numpy()\n\nx = sm.add_constant(x)\nlinmodel = sm.OLS(y, x)",
   "execution_count": null
  },
  {
   "cell_type": "code",
   "id": "2cda4daa-a4f7-435c-830a-65cae931f491",
   "metadata": {
    "language": "python",
    "name": "results",
    "codeCollapsed": false
   },
   "outputs": [],
   "source": "reg_results = linmodel.fit()",
   "execution_count": null
  },
  {
   "cell_type": "code",
   "id": "1bda0b43-399f-4ab8-8ea5-df32ce0070d6",
   "metadata": {
    "language": "python",
    "name": "summary",
    "codeCollapsed": false
   },
   "outputs": [],
   "source": "reg_results.summary()",
   "execution_count": null
  },
  {
   "cell_type": "markdown",
   "id": "b14c5e8b-8b24-4fdc-8c86-f794dcadcb30",
   "metadata": {
    "name": "_linalg"
   },
   "source": "### Linear Algebra"
  },
  {
   "cell_type": "code",
   "id": "09f2b1c5-4087-490b-8704-e29b7a5d05ce",
   "metadata": {
    "language": "python",
    "name": "linalg",
    "codeCollapsed": false
   },
   "outputs": [],
   "source": "# Using Linear Algebra\nX1 = x\nY = males.Weight.to_numpy().reshape(-1,1)\nB = np.matmul(np.matmul(np.linalg.inv(np.matmul(X1.T, X1)), X1.T), Y)\n\nprint(B)",
   "execution_count": null
  }
 ]
}