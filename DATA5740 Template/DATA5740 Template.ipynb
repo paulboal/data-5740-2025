{
 "metadata": {
  "kernelspec": {
   "display_name": "Streamlit Notebook",
   "name": "streamlit"
  },
  "lastEditStatus": {
   "notebookId": "k776pzg2uwvozuck4il2",
   "authorId": "4866670459106",
   "authorName": "PBOAL",
   "authorEmail": "pboal@wustl.edu",
   "sessionId": "3a23bb09-3fd0-40d0-bcbe-aa2ce477737b",
   "lastEditTime": 1755378981824
  }
 },
 "nbformat_minor": 5,
 "nbformat": 4,
 "cells": [
  {
   "cell_type": "markdown",
   "id": "c695373e-ac74-4b62-a1f1-08206cbd5c81",
   "metadata": {
    "name": "_header",
    "collapsed": false
   },
   "source": "# DATA5740: Foundations of Analytics\n\nThis is a template notebook to show you how notebooks work in Snowflake. They're very similar to Jupyter notebooks. 90% of what you can do in Jupyter notebooks, you can do in Snowflake. Some of what you do in Snowflake notebooks cannot be done in Jupyter, though. So, notebooks here in Snowflake are only partially compatible with a generic Jupyter environment."
  }
 ]
}