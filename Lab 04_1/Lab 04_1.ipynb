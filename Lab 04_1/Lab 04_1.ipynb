{
 "metadata": {
  "kernelspec": {
   "display_name": "Streamlit Notebook",
   "name": "streamlit"
  },
  "lastEditStatus": {
   "notebookId": "ut3hmslu75siuij7qsph",
   "authorId": "1862636791025",
   "authorName": "PBOAL2",
   "authorEmail": "pboal@wustl.edu",
   "sessionId": "def29a69-1348-4b95-9afc-dee79450da0f",
   "lastEditTime": 1758599425973
  }
 },
 "nbformat_minor": 5,
 "nbformat": 4,
 "cells": [
  {
   "cell_type": "markdown",
   "id": "d4f779b4-2bbc-4997-8d52-a9c025d754dd",
   "metadata": {
    "name": "_intro",
    "collapsed": false
   },
   "source": "# Lab 04\n\n## Section 1: Group Comparisons with Continuous Data\n\nThe purpose of this lab is to learn some of the functions used to perform exploratory data analysis and statistical analysis on data that is continuous in nature. \n\nFor this lab, we'll use the **Analysis of Variance (ANOVA)** technique to understand the difference in heights and weights between males of different countries. Are men of different countries significantly different heights from each other?\n"
  },
  {
   "cell_type": "code",
   "id": "04566371-7d50-4b90-9366-e2cb88481b6a",
   "metadata": {
    "language": "python",
    "name": "imports",
    "collapsed": false,
    "codeCollapsed": false
   },
   "outputs": [],
   "source": "import pandas as pd\nimport streamlit as st\nimport altair as alt\nimport seaborn as sns\nfrom statsmodels.stats.multicomp import pairwise_tukeyhsd",
   "execution_count": null
  },
  {
   "cell_type": "markdown",
   "id": "dd193dee-0eb2-4fd9-809c-de38a8d6f880",
   "metadata": {
    "name": "_1_read_data",
    "collapsed": false
   },
   "source": "### 1. Read the `males_ht_wt_ctry.csv` file into a dataframe"
  },
  {
   "cell_type": "code",
   "id": "35a179e3-5666-4daa-a4f2-9baa74665544",
   "metadata": {
    "language": "python",
    "name": "read_file"
   },
   "outputs": [],
   "source": "males = pd.read_csv('males_ht_wt_cntry.csv')\nmales",
   "execution_count": null
  },
  {
   "cell_type": "markdown",
   "id": "fcc009cc-0a68-4ca3-b836-c02af5d395a6",
   "metadata": {
    "name": "_2_examine_data",
    "collapsed": false
   },
   "source": "### 2. Examine the data\n\n* Display some rows tomake sure it imported correctly.\n* Generate histograms of heights by country using Altair or Seaborn\n* Generate histograms of weights by country using Altair or Seaborn"
  },
  {
   "cell_type": "code",
   "id": "a0e3e90d-393a-43fb-bc48-feff4494b7c3",
   "metadata": {
    "language": "python",
    "name": "histograms_altair",
    "codeCollapsed": false
   },
   "outputs": [],
   "source": "# Selector for Height or Weight\nmetric = st.selectbox(\n    label = 'Metric',\n    options = ['Height','Weight'],\n    index = 0\n)\n\n# Selector for which Countries to show\ncountries = st.multiselect(\n    label = 'Countries',\n    options = males['Country'].unique(),\n    default = males['Country'].unique()\n)\n\n# Create a subset of our data based on the selected Countries and Metric\nmales_subset = males[males['Country'].isin(countries)][['Country',metric]]\n\n# Build a histogram\nchart = alt.Chart(males_subset).mark_bar().encode(\n    x=alt.X(metric, title=metric, bin=alt.Bin(maxbins=20)),\n    y=alt.Y(\"count()\", title=\"Count\"),\n    color=\"Country\",\n    column=\"Country\"\n)\n\nst.altair_chart(chart)",
   "execution_count": null
  },
  {
   "cell_type": "code",
   "id": "2a729de8-3876-446d-a82b-f5b197458e4b",
   "metadata": {
    "language": "python",
    "name": "histograms_seaborn",
    "codeCollapsed": false
   },
   "outputs": [],
   "source": "# Seaborn has a great kdeplot that will show both histogram and kde\nsns.histplot(males,\n        x='Weight',\n        hue='Country',\n        alpha=.2,\n        kde=True)",
   "execution_count": null
  },
  {
   "cell_type": "markdown",
   "id": "c4b476f0-4b08-46fa-a76d-d0eabeffc04a",
   "metadata": {
    "name": "_3_anova",
    "collapsed": false
   },
   "source": "### 3. Conduct ANOVA to determine if the weights differ by nationality\n\nUse this [link](https://towardsdev.com/anova-test-in-python-af106c5142eb) as a reference. \n\nMake sure you use Levene’s test to check if the variance is close to equal."
  },
  {
   "cell_type": "code",
   "id": "de841762-386e-4708-a80e-881bef53eeda",
   "metadata": {
    "language": "python",
    "name": "anova",
    "codeCollapsed": false
   },
   "outputs": [],
   "source": "from scipy import stats\n\n# Create separate dataframes for each Country\ngroups_w = [males.loc[males['Country'] == c, 'Weight'].dropna() for c in males['Country'].unique()]\n\nF, p = stats.f_oneway(*groups_w)\n\nprint(f'ANOVA F-stat: {F:.3f}')\nprint(f'ANOVA p-val:  {p:.3g}')",
   "execution_count": null
  },
  {
   "cell_type": "code",
   "id": "b7ae740a-185c-43aa-ae31-af31aec2589e",
   "metadata": {
    "language": "python",
    "name": "levene",
    "codeCollapsed": false
   },
   "outputs": [],
   "source": "lev, p = stats.levene(*groups_w, center='median')\n\nprint(f'Levene Stat:   {lev:.3f}')\nprint(f'Levene p-val:  {p:.3g}')",
   "execution_count": null
  },
  {
   "cell_type": "markdown",
   "id": "868e9d32-7eeb-4d6f-9320-59888e46468b",
   "metadata": {
    "name": "interpret_anova",
    "collapsed": false
   },
   "source": "H0: The weights of males are the same across all countries.\n\nH1: The weights of males from at least one country is different than the other countries.\n\n\nThe very small p-value for the ANOVA tells us that we must reject the null hypothesis an conclude that at least the males from one country have weights that differ significantly from the other countries.\n\nWe **H0** and accept **H1**.\n\n\nWe also used the LEVENE test to understand if the **variances of male weights** across different countries are the same. We got a p-value >0.05 in this case and cannot reject the null hypothesis that the variances are the same. Therefore, we can use a standard ANOVA rather than Welch's ANOVA.\n"
  },
  {
   "cell_type": "markdown",
   "id": "ffc0f691-f35c-406e-8ea7-467300ed6281",
   "metadata": {
    "name": "_4_groupwise_compare",
    "collapsed": false
   },
   "source": "### 4. Groupwise Comparison\n\nUsing [this link](https://www.statology.org/two-sample-t-test-python/) as a reference, compare the Italian to the Dutch. Then compare the American to the Dutch."
  },
  {
   "cell_type": "code",
   "id": "69271ef2-5116-43ef-b135-7be447efc0a5",
   "metadata": {
    "language": "python",
    "name": "t_test_1"
   },
   "outputs": [],
   "source": "italy, usa, netherlands = [males.loc[males['Country'] == c, 'Weight'].dropna() for c in ['Italy','USA','Netherlands']]\n\nt, p = stats.ttest_ind(italy, netherlands)\nprint(f'Italy-Netherlands : t-stat: {t:.3f}')\nprint(f'                  : p-val : {p:.3g}')\n\nt, p = stats.ttest_ind(usa, netherlands)\nprint(f'USA  -Netherlands : t-stat: {t:.3f}')\nprint(f'                  : p-val : {p:.3g}')\n\nt, p = stats.ttest_ind(usa, italy)\nprint(f'USA  -Italy       : t-stat: {t:.3f}')\nprint(f'                  : p-val : {p:.3g}')\n",
   "execution_count": null
  },
  {
   "cell_type": "markdown",
   "id": "ba9163e4-1082-4ad2-80a4-c721177791ae",
   "metadata": {
    "name": "interpret_t_test"
   },
   "source": "What we can conclude from this groupwise analysis is that the Italians are different in Weight than those from the Netherlands and those from the USA. But the USA and Netherlands males cannot be distinguished."
  },
  {
   "cell_type": "markdown",
   "id": "7e066d26-9a4e-4f02-8c8b-9759828ed9e8",
   "metadata": {
    "name": "_5_false_positives",
    "collapsed": false
   },
   "source": "### 5. False Positives?\n\nConducting multiple tests like this increases the odds of getting false significant results. If you had conducted tests for 3 comparisons (Italian vs Dutch, Italian vs American, American vs Dutch), what is the probability one of these t-tests is not actually significant (i.e. false positive)?"
  },
  {
   "cell_type": "code",
   "id": "49b3382f-1517-4f78-a358-8e43a65ba308",
   "metadata": {
    "language": "python",
    "name": "false_pos_rate"
   },
   "outputs": [],
   "source": "# The false positive rate for one trial is 0.05\n# Meaning we have a 0.95 chance of being right\n# But to be right 3 times is 0.95 * 0.95 *.95\n# The chance of a false positive is then 1 - (0.95 ^ 3)\nprint(f'Probability of a false positive ', 1-(0.95**3))",
   "execution_count": null
  },
  {
   "cell_type": "markdown",
   "id": "33c88cac-7527-45e4-aff7-640123c66f84",
   "metadata": {
    "name": "_6_family_wise_error",
    "collapsed": false
   },
   "source": "### 6. Family-Wise Error Rate (FWER)\n\n6.\tWhen comparing these groups, it’s better to control the Family-Wise Error Rate (FWER). Use a multiple comparison procedure with a Tukey adjustment. See [this link](https://www.statology.org/tukey-test-python/) for how to do this in using the pairwise_tukeyhsd() function (statsmodels.stats.multicomp.pairwise_tukeyhsd)."
  },
  {
   "cell_type": "code",
   "id": "06fa0a25-76af-48f0-a3ea-23138bbf546d",
   "metadata": {
    "language": "python",
    "name": "tukey"
   },
   "outputs": [],
   "source": "# Pairwise Tukey\npw_cmp = pairwise_tukeyhsd(endog=males['Weight'], groups=males['Country'], alpha=0.05)\n\nprint(pw_cmp)\n",
   "execution_count": null
  },
  {
   "cell_type": "markdown",
   "id": "e319f35f-0004-4801-8ce4-347a77422ff4",
   "metadata": {
    "name": "interpret_tukey"
   },
   "source": "In the Tukey results, we can see the p-value for the USA/Netherlands comparison is even larger (0.9119 versus 0.695). This is because Tukey adjusts up for the likelihood of a false positive increasing."
  }
 ]
}