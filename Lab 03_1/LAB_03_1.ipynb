{
 "metadata": {
  "kernelspec": {
   "display_name": "Streamlit Notebook",
   "name": "streamlit"
  },
  "lastEditStatus": {
   "notebookId": "6ewa5mp456ha3uamsly3",
   "authorId": "1862636791025",
   "authorName": "PBOAL2",
   "authorEmail": "pboal@wustl.edu",
   "sessionId": "8918c71c-ac2b-45e0-8574-a10747b5fe69",
   "lastEditTime": 1757651695655
  }
 },
 "nbformat_minor": 5,
 "nbformat": 4,
 "cells": [
  {
   "cell_type": "markdown",
   "id": "c54660bb-0b30-4f78-8c28-b6a90369dd4a",
   "metadata": {
    "name": "instructions",
    "collapsed": false
   },
   "source": "# Section 1: Linear Algebra and Cosine Similarity\nWe have two wealthy donors and want to understand how similar their donation behaviors are. For example, we know that these two donors (James and Beth) give to several different charities on an annual basis, some of which overlap:\n\n```\n|-------------------------------------------------------------|\n| Charity                 |  James |   Beth | Albert |  Stacy |\n| The Nature Conservancy  |    $50 |   $400 |   $100 |        |\n| National Public Radio   |    $30 |        |   $100 |   $300 |\n| St. Jude’s Children’s   |        |   $400 |   $200 |   $500 |\n| Doctor’s Without Borders|    $10 |   $100 |   $500 |   $200 |\n| World Wildlife Fund     |    $40 |   $500 |        |   $400 |\n|-------------------------------------------------------------|\n```\n\n\nHow similar are the philanthropic interests of our donors (as demonstrated by the magnitude of donations to the same charities)?\n\n```\n|          James   Beth  Albert   Stacy\n| James        1  0.976   0.423   0.983\n| Beth     0.976      1   0.540   0.966\n| Albert   0.423  0.540       1   0.681\n| Stacy    0.983  0.966   0.681       1\n```\n\nHow do we do this?\n\nWrite some Python code using numpy matrix functions like np.dot() and np.linalg.norm().\n\nExtra consideration—do we consider ALL charities or only those charities where each member of the pair has made a donation?\n"
  },
  {
   "cell_type": "code",
   "id": "3775908f-ca36-4846-8f38-5adca39217f2",
   "metadata": {
    "language": "python",
    "name": "init"
   },
   "source": "# Import python packages\nimport streamlit as st\nimport pandas as pd\n\n# We can also use Snowpark for our analyses!\nfrom snowflake.snowpark.context import get_active_session\nsession = get_active_session()\n",
   "execution_count": null,
   "outputs": []
  },
  {
   "cell_type": "code",
   "id": "77faa5c3-1140-487a-aedd-4444e1084143",
   "metadata": {
    "language": "python",
    "name": "setup",
    "codeCollapsed": false
   },
   "outputs": [],
   "source": "import numpy as np\n\ndata = pd.DataFrame({\n    \"James\": [50, 30, np.nan, 10, 40],\n    \"Beth\": [400, np.nan, 400, 100, 500],\n    \"Albert\": [100, 100, 200, 500, np.nan],\n    \"Stacy\": [np.nan, 300, 500, 200, 400]\n}, index = [\n    \"Nature Conservancy\",\n    \"National Public Radio\",\n    \"St. Jude's\",\n    \"Doctors Without Borders\",\n    \"World Wildlife Fund\"\n])",
   "execution_count": null
  },
  {
   "cell_type": "code",
   "id": "0e66d41c-54e9-4d4c-ac69-46138b418fd8",
   "metadata": {
    "language": "python",
    "name": "donations",
    "codeCollapsed": false
   },
   "outputs": [],
   "source": "data",
   "execution_count": null
  },
  {
   "cell_type": "code",
   "id": "0070979a-7ada-4580-b240-f835accd91a4",
   "metadata": {
    "language": "python",
    "name": "cosine_similarity",
    "codeCollapsed": false
   },
   "outputs": [],
   "source": "# Function to compute cosine similarity with overlap masking\ndef cosine(u, v):\n\n    # Only TRUE when both are not NAN\n    mask = ~np.isnan(u) & ~np.isnan(v)\n\n    # If none overlap, return None\n    if not(any(mask)):\n        return None\n    \n    u_masked, v_masked = u[mask], v[mask]\n    dot = np.dot(u_masked, v_masked)\n    norm_u = np.linalg.norm(u_masked)\n    norm_v = np.linalg.norm(v_masked)\n\n    # If denominator is 0, return None\n    if norm_u == 0 or norm_v == 0:\n        cosine_sim = None\n    else:\n        cosine_sim = dot / (norm_u * norm_v)\n    return cosine_sim",
   "execution_count": null
  },
  {
   "cell_type": "code",
   "id": "501384cd-0f8c-4278-9e36-8a3ba823be2c",
   "metadata": {
    "language": "python",
    "name": "similarities",
    "codeCollapsed": false
   },
   "outputs": [],
   "source": "# Pairwise similarities\ndonors = data.columns\nsim_matrix = pd.DataFrame(index=donors, columns=donors, dtype=float)\n\n# Iterate through all the pairs of donors\nfor i in donors:\n    for j in donors:\n        if i == j:\n            sim_matrix.loc[i, j] = 1.0\n        else:\n            sim_matrix.loc[i, j] = cosine(data.loc[:,i].values, data.loc[:,j].values)\n\nsim_matrix.round(3)",
   "execution_count": null
  },
  {
   "cell_type": "markdown",
   "id": "555fccf2-b00f-4d18-b93a-7c7444735db7",
   "metadata": {
    "name": "alternative"
   },
   "source": "## Alternative 2: sklearn cosine_similarity\n\nSciKit Learn has a built-in cosine_similarity() function that can be used in our situation, too. Check the documentation: https://scikit-learn.org/stable/modules/generated/sklearn.metrics.pairwise.cosine_similarity.html"
  },
  {
   "cell_type": "code",
   "id": "663203e2-5a35-470c-8b2e-8b1d647d5dd4",
   "metadata": {
    "language": "python",
    "name": "sklearn"
   },
   "outputs": [],
   "source": "from sklearn.metrics.pairwise import cosine_similarity\n\n# Pairwise similarities\ndonors = data.columns\nsk = pd.DataFrame(index=donors, columns=donors, dtype=float)\n\n# Iterate through all the pairs of donors\nfor i in donors:\n    for j in donors:\n        if i == j:\n            sk.loc[i, j] = 1.0\n        else:\n            # We still have to mask the data\n            u = data.loc[:,i].values\n            v = data.loc[:,j].values\n            mask = ~np.isnan(u) & ~np.isnan(v)\n\n            # But we can use the cosine_similarity function from\n            # sklearn after forcing our values into the right shape.\n            # We have a column (mx1), cosine_similarity wants a row (1xn).\n            sk.loc[i, j] = cosine_similarity(\n                u[mask].reshape(1,-1), \n                v[mask].reshape(1,-1))\n\nsk.round(3)",
   "execution_count": null
  }
 ]
}