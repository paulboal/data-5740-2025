{
 "metadata": {
  "kernelspec": {
   "display_name": "Streamlit Notebook",
   "name": "streamlit"
  },
  "lastEditStatus": {
   "notebookId": "ih37vnxfjmtgvcnyh53m",
   "authorId": "1862636791025",
   "authorName": "PBOAL2",
   "authorEmail": "pboal@wustl.edu",
   "sessionId": "47050961-1dfa-4982-a1d7-de742e67ff30",
   "lastEditTime": 1757639786019
  }
 },
 "nbformat_minor": 5,
 "nbformat": 4,
 "cells": [
  {
   "cell_type": "code",
   "id": "3775908f-ca36-4846-8f38-5adca39217f2",
   "metadata": {
    "language": "python",
    "name": "setup1"
   },
   "source": "# Import python packages\nimport streamlit as st\nimport pandas as pd\nimport numpy as np\nfrom math import sqrt, pi, exp\nimport matplotlib.pyplot as plt\n\n# We can also use Snowpark for our analyses!\nfrom snowflake.snowpark.context import get_active_session\nsession = get_active_session()\n",
   "execution_count": null,
   "outputs": []
  },
  {
   "cell_type": "code",
   "id": "8d50cbf4-0c8d-4950-86cb-114990437ac9",
   "metadata": {
    "language": "sql",
    "name": "setup2",
    "codeCollapsed": false
   },
   "source": "USE SCHEMA MOVIES.PUBLIC;",
   "execution_count": null,
   "outputs": []
  },
  {
   "cell_type": "code",
   "id": "c695373e-ac74-4b62-a1f1-08206cbd5c81",
   "metadata": {
    "language": "python",
    "name": "gas_data",
    "codeCollapsed": false
   },
   "source": "gas = session.table(\"gas_daily\").to_pandas().sort_values(\"DT\")\ngas[\"log_ret\"] = np.log(gas[\"PRICE\"]).diff()\nrets = gas[\"log_ret\"].dropna().to_numpy()\n\nmu, sigma = rets.mean(), rets.std(ddof=1)\n",
   "execution_count": null,
   "outputs": []
  },
  {
   "cell_type": "code",
   "id": "785f0242-ce9c-40b2-b5d7-56fb9085a82e",
   "metadata": {
    "language": "python",
    "name": "sampling",
    "codeCollapsed": false
   },
   "outputs": [],
   "source": "def sample_means(n, B=5000):\n    idx = np.random.randint(0, len(rets), size=(B, n))\n    means = rets[idx].mean(axis=1)\n    return means",
   "execution_count": null
  },
  {
   "cell_type": "code",
   "id": "be92fed2-e42d-4103-af47-9e38aa11b269",
   "metadata": {
    "language": "python",
    "name": "histogram",
    "codeCollapsed": false
   },
   "outputs": [],
   "source": "def hist(n):\n    means = sample_means(n)\n\n    plt.figure()\n    plt.hist(means, bins=40, density=True, alpha=0.6)\n    xs = np.linspace(mu-4*sigma/np.sqrt(n), mu+4*sigma/np.sqrt(n), 400)\n    \n    pdf = (1/(sqrt(2*pi)*(sigma/np.sqrt(n)))) * np.exp(-(xs-mu)**2/(2*(sigma**2/n)))\n    plt.plot(xs, pdf)\n    plt.title(f\"Sampling distribution of mean log-return (n={n})\")",
   "execution_count": null
  },
  {
   "cell_type": "code",
   "id": "e26bdbfb-30aa-4aec-8d6b-cab32131e757",
   "metadata": {
    "language": "python",
    "name": "cell2",
    "codeCollapsed": false
   },
   "outputs": [],
   "source": "hist(5)\nplt.show()",
   "execution_count": null
  },
  {
   "cell_type": "code",
   "id": "e76c6e47-576d-40fc-a2db-a297bea07975",
   "metadata": {
    "language": "python",
    "name": "cell1"
   },
   "outputs": [],
   "source": "hist(10)\nplt.show()",
   "execution_count": null
  },
  {
   "cell_type": "code",
   "id": "2ef4049f-6a58-4d44-80e1-92b157e0ab6a",
   "metadata": {
    "language": "python",
    "name": "cell3"
   },
   "outputs": [],
   "source": "hist(100)\nplt.show()",
   "execution_count": null
  },
  {
   "cell_type": "code",
   "id": "8f8164a2-c7a2-4ca3-8742-b87f05dca4ef",
   "metadata": {
    "language": "python",
    "name": "cell4"
   },
   "outputs": [],
   "source": "means5 = sample_means(5)",
   "execution_count": null
  },
  {
   "cell_type": "code",
   "id": "0f3f5098-9088-4e56-971e-ba2e14ed2687",
   "metadata": {
    "language": "python",
    "name": "cell5",
    "codeCollapsed": false
   },
   "outputs": [],
   "source": "import altair as alt\n\nst.altair_chart(\n    alt.Chart(pd.DataFrame({\"means\": means5})).mark_bar().encode(\n        alt.X(\"means\", bin=alt.Bin(maxbins=40)),\n        y='count()'\n    )\n)",
   "execution_count": null
  },
  {
   "cell_type": "code",
   "id": "740e969e-f44f-4264-a0e4-e2dd1580c5f4",
   "metadata": {
    "language": "python",
    "name": "cell6",
    "codeCollapsed": false
   },
   "outputs": [],
   "source": "",
   "execution_count": null
  }
 ]
}