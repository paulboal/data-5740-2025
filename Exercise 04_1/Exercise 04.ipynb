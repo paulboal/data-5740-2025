{
 "metadata": {
  "kernelspec": {
   "display_name": "Streamlit Notebook",
   "name": "streamlit"
  },
  "lastEditStatus": {
   "notebookId": "pd5jpbac6drftu6ptpg7",
   "authorId": "1862636791025",
   "authorName": "PBOAL2",
   "authorEmail": "pboal@wustl.edu",
   "sessionId": "1fd40bd5-2e68-484f-aa64-b9bd6329d5be",
   "lastEditTime": 1758678715278
  }
 },
 "nbformat_minor": 5,
 "nbformat": 4,
 "cells": [
  {
   "cell_type": "markdown",
   "id": "3775908f-ca36-4846-8f38-5adca39217f2",
   "metadata": {
    "name": "intro",
    "collapsed": false
   },
   "source": "# Execise 4\n\n## Section 1: Predicting Used Car Prices\n\nWe’ll be using the cars.csv data set for this section of the exercise. The data set covers the characteristics and prices for used cars sold in India. We are interested in predicting the price of a car given some characteristics. We will attempt to build a linear regression model of Price. We are going to work on filling in the missing data that we previously dropped. \n\n**Don't forget to add statsmodels to your packages**"
  },
  {
   "cell_type": "code",
   "id": "8d50cbf4-0c8d-4950-86cb-114990437ac9",
   "metadata": {
    "language": "python",
    "name": "imports",
    "collapsed": false,
    "codeCollapsed": false
   },
   "source": "import pandas as pd\nimport numpy as np\nimport streamlit as st\nimport altair as alt\nimport statsmodels.api as sm\nimport statsmodels.formula.api as smf\nfrom statsmodels.stats.outliers_influence import variance_inflation_factor\nimport statsmodels.imputation as smi\nfrom statistics import mean\nfrom sympy import im\n",
   "execution_count": null,
   "outputs": []
  },
  {
   "cell_type": "code",
   "id": "3263b303-5f0d-466a-93be-94caf272209c",
   "metadata": {
    "language": "python",
    "name": "data",
    "codeCollapsed": false
   },
   "outputs": [],
   "source": "cars = pd.read_csv('cars.csv')\ncars.head()",
   "execution_count": null
  },
  {
   "cell_type": "code",
   "id": "c695373e-ac74-4b62-a1f1-08206cbd5c81",
   "metadata": {
    "language": "python",
    "name": "clean",
    "codeCollapsed": false
   },
   "source": "# Get just the numbers from various fields that have units\ncars[\"Mileage\"] = cars[\"Mileage\"].str.rstrip(\" kmpl\")\ncars[\"Mileage\"] = cars[\"Mileage\"].str.rstrip(\" km/g\")\ncars[\"Engine\"] = cars[\"Engine\"].str.rstrip(\" CC\")\ncars[\"Power\"] = cars[\"Power\"].str.rstrip(\" bhp\")\n\n# Replace the word \"null\" with NaN\ncars[\"Power\"]= cars[\"Power\"].replace(regex=\"null\", value = np.nan)\n\n# Make sure numeric fields are numeric\ncars[\"Mileage\"]=cars[\"Mileage\"].astype(\"float\")\ncars[\"Power\"]=cars[\"Power\"].astype(\"float\")\ncars[\"Engine\"]=cars[\"Engine\"].astype(\"float\")\n\n# Make categorical fields a category data type\ncars[\"Fuel_Type\"]=cars[\"Fuel_Type\"].astype(\"category\")\ncars[\"Transmission\"]=cars[\"Transmission\"].astype(\"category\")\ncars[\"Owner_Type\"]=cars[\"Owner_Type\"].astype(\"category\")\n\n# Extract \"Company\" as the first part of the \"Name\"\ncars[\"Company\"]=cars[\"Name\"].str.split(\" \").str[0]\n\n# Keep the second and third parts as the \"Model\"\ncars[\"Model\"]=cars[\"Name\"].str.split(\" \").str[1]+cars[\"Name\"].str.split(\" \").str[2]\n\ncars.head()",
   "execution_count": null,
   "outputs": []
  },
  {
   "cell_type": "markdown",
   "id": "f335b84c-36aa-46ca-a111-826fa7a401d1",
   "metadata": {
    "name": "_01_price_transform",
    "collapsed": false
   },
   "source": "### 1. Transform Price so that it looks more normal, produce histograms of the variable before and after transformation"
  },
  {
   "cell_type": "code",
   "id": "e0104197-45bb-4f2a-8c49-a056ef5ef511",
   "metadata": {
    "language": "python",
    "name": "price_viz",
    "codeCollapsed": false
   },
   "outputs": [],
   "source": "p1 = alt.Chart(cars).mark_bar().encode(\n    alt.X(\"Price:Q\", bin=True),\n    alt.Y('count()', title=\"Count\"),\n)\n\np1",
   "execution_count": null
  },
  {
   "cell_type": "code",
   "id": "7b21198c-eb0b-44fc-a609-cdbb94270191",
   "metadata": {
    "language": "python",
    "name": "transform_price",
    "codeCollapsed": false
   },
   "outputs": [],
   "source": "# When data looks like an exponentially decreasing curve, \n# we can take the log to see if it's more normal and \n# work with logValue instead of Value\ncars[\"logPrice\"] = np.log(cars[\"Price\"])\n\np2 = alt.Chart(cars).mark_bar().encode(\n    alt.X(\"logPrice:Q\", bin=True),\n    alt.Y('count()', title=\"Count\"),\n)\n\nalt.hconcat(p1,p2)",
   "execution_count": null
  },
  {
   "cell_type": "markdown",
   "id": "695e9ccc-91cc-4393-9d25-eec1976d85ca",
   "metadata": {
    "name": "_02_missing_vals",
    "collapsed": false
   },
   "source": "### 2. How many values are missing for Power and Engine?"
  },
  {
   "cell_type": "code",
   "id": "87cdd4fd-c1b6-4e6f-b7b3-92d8ec6766f3",
   "metadata": {
    "language": "python",
    "name": "missing_vals",
    "codeCollapsed": false
   },
   "outputs": [],
   "source": "# We can do a simple count of nulls\ncars.isnull().sum()",
   "execution_count": null
  },
  {
   "cell_type": "markdown",
   "id": "b8613af3-209f-420c-aace-74f92c68eb55",
   "metadata": {
    "name": "_03_most_missing",
    "collapsed": false
   },
   "source": "### 3. Which column has the most missing values and what should we do about it?"
  },
  {
   "cell_type": "code",
   "id": "b543cc1a-fef2-4290-97fd-6a8725a45752",
   "metadata": {
    "language": "python",
    "name": "most_missing"
   },
   "outputs": [],
   "source": "# Looks like New_Price is the answer\n# How about we just drop it. A lot of them are missing.\ncars.drop(columns=['New_Price'], inplace=True)",
   "execution_count": null
  },
  {
   "cell_type": "markdown",
   "id": "b0884269-c412-42d8-8fc7-5f8eb488cf00",
   "metadata": {
    "name": "_04_model1",
    "collapsed": false
   },
   "source": "### 4. Build a model of transformed price based on Power, Mileage, Kilometers Driven, and Year, how much variance is explained?"
  },
  {
   "cell_type": "code",
   "id": "5bc06da8-2b92-478d-b754-ed97ee0b1299",
   "metadata": {
    "language": "python",
    "name": "model1"
   },
   "outputs": [],
   "source": "# We'll use statmodels OLS to fit a model\n# but first, let's drop any records with missing data.\nclean_cars = cars.dropna()\n\nX = clean_cars[['Power','Kilometers_Driven', 'Year', 'Mileage']]\nY = clean_cars['logPrice']\nX = sm.add_constant(X)\n\nmodel = sm.OLS(Y,X)\nresults = model.fit()\n\nresults.summary()",
   "execution_count": null
  },
  {
   "cell_type": "code",
   "id": "24259d23-288d-487d-a86a-f589ee58d7cf",
   "metadata": {
    "language": "python",
    "name": "model1_vif",
    "codeCollapsed": false
   },
   "outputs": [],
   "source": "# We can also use \"variance_inflation_factor\" to understand the impact of each individual variable\n# https://www.statsmodels.org/stable/generated/statsmodels.stats.outliers_influence.variance_inflation_factor.html\n#\n# Anything >5 is highly colinear with other variables and parameter estimates will probably have large standard error\n\nvif = pd.DataFrame()\nvif['VIF'] = [variance_inflation_factor(X.values, i) for i in range(X.shape[1])]\nvif['variable'] = X.columns\nvif",
   "execution_count": null
  },
  {
   "cell_type": "markdown",
   "id": "22f17a0b-fde2-4407-8cdd-49a10143719e",
   "metadata": {
    "name": "_05_how_many_rows",
    "collapsed": false
   },
   "source": "### 5. How many rows were used to train the model?"
  },
  {
   "cell_type": "code",
   "id": "4a294df6-79dd-44a7-9b40-26cb60970128",
   "metadata": {
    "language": "python",
    "name": "how_many_rows",
    "codeCollapsed": false
   },
   "outputs": [],
   "source": "print(f'{len(clean_cars)} rows out of {len(cars)} total')",
   "execution_count": null
  },
  {
   "cell_type": "markdown",
   "id": "e5f69719-6f3d-4a5b-bd51-3dfccc0bf94e",
   "metadata": {
    "name": "_06_fill_and_model",
    "collapsed": false
   },
   "source": "### 6. Fill the missing values in Power and Mileage with their respective means and rebuild the model. \n\nNow how much variance is explained?"
  },
  {
   "cell_type": "code",
   "id": "d68a32f8-3f6f-458f-850d-c90856e799ef",
   "metadata": {
    "language": "python",
    "name": "fill_power_mileage",
    "codeCollapsed": false
   },
   "outputs": [],
   "source": "mean_power = cars['Power'].mean()\nmean_mileage = cars['Mileage'].mean()\n\ncars['meanPower'] = cars['Power']\ncars['meanMileage'] = cars['Mileage']\ncars.fillna(value={'meanPower':mean_power, 'meanMileage':mean_mileage}, inplace=True)\n\ncars.isnull().sum()",
   "execution_count": null
  },
  {
   "cell_type": "code",
   "id": "5db4f625-47ae-411c-a1ac-32c0d0e4175c",
   "metadata": {
    "language": "python",
    "name": "model2",
    "codeCollapsed": false
   },
   "outputs": [],
   "source": "# We'll use statmodels OLS to fit a new model\nclean_cars = cars[['logPrice','meanPower','Kilometers_Driven', 'Year', 'meanMileage']].dropna()\nX = clean_cars[['meanPower','Kilometers_Driven', 'Year', 'meanMileage']]\nY = clean_cars['logPrice']\nX = sm.add_constant(X)\n\nmodel = sm.OLS(Y,X)\nresults = model.fit()\n\nresults.summary()",
   "execution_count": null
  },
  {
   "cell_type": "markdown",
   "id": "c6bd020d-dd36-4625-85f5-110727597262",
   "metadata": {
    "name": "interpret_model2",
    "collapsed": false
   },
   "source": "Wow. That new model has a worse R2? I guess using means was not an effective imputation technique."
  },
  {
   "cell_type": "markdown",
   "id": "039f88e6-61af-4fd3-991d-8bbd2653a1e5",
   "metadata": {
    "name": "_07_how_many_rows",
    "collapsed": false
   },
   "source": "### 7. How many rows were used to train the model?"
  },
  {
   "cell_type": "code",
   "id": "f149bd85-2651-4fa5-ba58-613ff8ec5c4c",
   "metadata": {
    "language": "python",
    "name": "how_many_rows2"
   },
   "outputs": [],
   "source": "print(f'{len(clean_cars)} rows out of {len(cars)} total')",
   "execution_count": null
  },
  {
   "cell_type": "markdown",
   "id": "44a259a2-6a5a-4bdd-b4a9-bb790e34bc85",
   "metadata": {
    "name": "_08_use_mice",
    "collapsed": false
   },
   "source": "### 8. Impute the missing data using MICE and rebuild the model\n\nhttps://www.statsmodels.org/dev/generated/statsmodels.imputation.mice.MICE.html"
  },
  {
   "cell_type": "code",
   "id": "3f0e093f-2261-49b6-b554-ad71d13d42cc",
   "metadata": {
    "language": "python",
    "name": "mice_impute"
   },
   "outputs": [],
   "source": "print(f'before MICE, {mean_power}, {mean_mileage}')\n\nmice_df = smi.mice.MICEData(cars[['logPrice','Power','Mileage','Kilometers_Driven','Year']])\nmodel = 'logPrice ~ Power + Mileage + Kilometers_Driven + Year'\n\nm = smi.mice.MICE(model, sm.OLS, mice_df)\nresults = m.fit(50,1)\n\nmice_power = mice_df.data['Power']\nmice_mileage = mice_df.data['Mileage']\n\nprint(f'after MICE {mice_power.mean()}, {mice_mileage.mean()}') ",
   "execution_count": null
  },
  {
   "cell_type": "code",
   "id": "91bd4b74-5327-443f-80cd-ded17f20833a",
   "metadata": {
    "language": "python",
    "name": "mice_model",
    "codeCollapsed": false
   },
   "outputs": [],
   "source": "cars['micePower'] = mice_df.data['Power']\ncars['miceMileage'] = mice_df.data['Mileage']\n\nclean_cars = cars[['logPrice','micePower','Kilometers_Driven', 'Year', 'miceMileage']].dropna()\nX = clean_cars[['micePower','Kilometers_Driven', 'Year', 'miceMileage']]\nY = clean_cars['logPrice']\nX = sm.add_constant(X)\n\nmodel = sm.OLS(Y,X)\nresults = model.fit()\nprint(results.summary())",
   "execution_count": null
  },
  {
   "cell_type": "markdown",
   "id": "9fb95593-7e2e-4dd1-9321-a8ba51c02ee8",
   "metadata": {
    "name": "_09_mice_results",
    "collapsed": false
   },
   "source": "### How have parameter estimates changed?\n\n```\nmiceMileage (-0.0084) has a substantially smaller magnitude than Mileage originally did (-0.0125).\n```"
  },
  {
   "cell_type": "markdown",
   "id": "730948a7-9e49-4a6a-a766-0c242dd4923d",
   "metadata": {
    "name": "_10_power",
    "collapsed": false
   },
   "source": ""
  },
  {
   "cell_type": "code",
   "id": "eea4f068-c8f7-4982-96fd-13302c22d7f0",
   "metadata": {
    "language": "python",
    "name": "power_hist"
   },
   "outputs": [],
   "source": "c1 = alt.Chart(cars).mark_bar().encode(\n    alt.X('micePower', bin=True),\n    alt.Y('count()', title='Count')\n)\n\nc2 = alt.Chart(cars).mark_bar().encode(\n    alt.X('Power', bin=True),\n    alt.Y('count()', title='Count')\n)\n\nalt.hconcat(c1,c2)",
   "execution_count": null
  },
  {
   "cell_type": "markdown",
   "id": "552e0674-5a50-4371-be40-b5dbf675a2d8",
   "metadata": {
    "name": "_11_mileage",
    "collapsed": false
   },
   "source": ""
  },
  {
   "cell_type": "code",
   "id": "830d394f-900a-44ba-a43e-6565e64c84c9",
   "metadata": {
    "language": "python",
    "name": "mileage_hist"
   },
   "outputs": [],
   "source": "c1 = alt.Chart(cars).mark_bar().encode(\n    alt.X('miceMileage', bin=True),\n    alt.Y('count()', title='Count')\n)\n\nc2 = alt.Chart(cars).mark_bar().encode(\n    alt.X('Mileage', bin=True),\n    alt.Y('count()', title='Count')\n)\n\nalt.hconcat(c1,c2)",
   "execution_count": null
  }
 ]
}