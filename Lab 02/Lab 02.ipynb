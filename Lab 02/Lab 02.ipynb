{
 "metadata": {
  "kernelspec": {
   "display_name": "Streamlit Notebook",
   "name": "streamlit"
  },
  "lastEditStatus": {
   "notebookId": "wsa6aanuo6ln2zr3j2o6",
   "authorId": "1862636791025",
   "authorName": "PBOAL2",
   "authorEmail": "pboal@wustl.edu",
   "sessionId": "c558413e-8276-4c6c-9cab-e06b5f867504",
   "lastEditTime": 1757031687908
  }
 },
 "nbformat_minor": 5,
 "nbformat": 4,
 "cells": [
  {
   "cell_type": "code",
   "id": "c513a585-165c-4d84-986d-164dd8d73a26",
   "metadata": {
    "language": "sql",
    "name": "year_city"
   },
   "outputs": [],
   "source": "use schema HCLS.SILVER;\n\nSELECT\n  YEAR (encounter_start) AS encounter_year,\n  synthea_city,\n  COUNT(*) AS number_of_encounters\nFROM\n  SILVER.ENCOUNTERS\nGROUP BY\n  YEAR (encounter_start),\n  synthea_city\nORDER BY\n  encounter_year,\n  synthea_city;",
   "execution_count": null
  },
  {
   "cell_type": "code",
   "id": "c2276f3a-8257-4d17-92c6-1018fde92199",
   "metadata": {
    "language": "python",
    "name": "to_pandas",
    "codeCollapsed": false
   },
   "outputs": [],
   "source": "year_city_df = year_city.to_pandas()",
   "execution_count": null
  },
  {
   "cell_type": "code",
   "id": "06a70068-db8b-48da-9c4a-d36ff0df27b7",
   "metadata": {
    "language": "python",
    "name": "viz",
    "codeCollapsed": false
   },
   "outputs": [],
   "source": "import streamlit as st\nimport altair as alt\nimport pandas as pd\n\nst.altair_chart((\n    alt.Chart(year_city_df)\n    .mark_bar()\n    .encode(\n        x=\"ENCOUNTER_YEAR:O\",\n        y=\"NUMBER_OF_ENCOUNTERS:Q\",\n        color=\"SYNTHEA_CITY:N\"\n    )\n), use_container_width=True)",
   "execution_count": null
  },
  {
   "cell_type": "code",
   "id": "7ec2afca-739d-497f-b2da-558fd596b13f",
   "metadata": {
    "language": "python",
    "name": "cell1",
    "codeCollapsed": false
   },
   "outputs": [],
   "source": "year_city_df.describe()",
   "execution_count": null
  },
  {
   "cell_type": "code",
   "id": "7f36d088-17cd-4ec1-8038-21991182ce31",
   "metadata": {
    "language": "python",
    "name": "cell2"
   },
   "outputs": [],
   "source": "",
   "execution_count": null
  }
 ]
}