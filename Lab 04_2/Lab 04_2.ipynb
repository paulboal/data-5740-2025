{
 "metadata": {
  "kernelspec": {
   "display_name": "Streamlit Notebook",
   "name": "streamlit"
  },
  "lastEditStatus": {
   "notebookId": "sqwij6lt7egpfav5gtow",
   "authorId": "1862636791025",
   "authorName": "PBOAL2",
   "authorEmail": "pboal@wustl.edu",
   "sessionId": "52b31eaa-ac45-4434-8d7f-bc55c31a404c",
   "lastEditTime": 1758600246647
  }
 },
 "nbformat_minor": 5,
 "nbformat": 4,
 "cells": [
  {
   "cell_type": "markdown",
   "id": "3775908f-ca36-4846-8f38-5adca39217f2",
   "metadata": {
    "name": "intro",
    "collapsed": false
   },
   "source": "# Lab 04 - Section 2: Group Comparisons with Categorical Data\n\n1. Create a new BMI column. Use the Imperial formula BMI=\\ \\frac{Weight\\ast703}{{Height}^2}. \n2. Create another new column ‘Overweight’ that is a 1 if BMI >= 25 and 0 otherwise. There are several ways to do this in Python. \n3. Create a contingency table of overweight by nationality and examine it. Describe any differences you see between nationalities.\n4. Conduct a Chi-Sq test using scipy.stats to see if the differences are significant. Explain your findings.\n\n"
  },
  {
   "cell_type": "code",
   "id": "8d50cbf4-0c8d-4950-86cb-114990437ac9",
   "metadata": {
    "language": "python",
    "name": "imports"
   },
   "source": "import pandas as pd\nimport scipy.stats as stats",
   "execution_count": null,
   "outputs": []
  },
  {
   "cell_type": "code",
   "id": "c695373e-ac74-4b62-a1f1-08206cbd5c81",
   "metadata": {
    "language": "python",
    "name": "data",
    "codeCollapsed": false
   },
   "source": "males = pd.read_csv('males_ht_wt_cntry.csv')\nmales",
   "execution_count": null,
   "outputs": []
  },
  {
   "cell_type": "code",
   "id": "08135203-6c30-4e59-b5a8-0403eb11f430",
   "metadata": {
    "language": "python",
    "name": "calculations",
    "codeCollapsed": false
   },
   "outputs": [],
   "source": "males['BMI'] = (males.Weight*703)/(males.Height**2)\nmales['Overweight'] = (males.BMI >= 25).astype(int)\n\nmales",
   "execution_count": null
  },
  {
   "cell_type": "code",
   "id": "f409a3f1-da6e-4c21-aef5-e0964f16d329",
   "metadata": {
    "language": "python",
    "name": "contingency_table",
    "codeCollapsed": false
   },
   "outputs": [],
   "source": "ct = pd.crosstab(males.Country,\n                males.Overweight, \n                margins = False)\n\nct",
   "execution_count": null
  },
  {
   "cell_type": "markdown",
   "id": "35aa1956-45c2-4ef2-b64c-9cf203824ae9",
   "metadata": {
    "name": "interpret_ct",
    "collapsed": false
   },
   "source": "The USA has the highest number of overweight individuals in the study. Italy has the fewest. If you examine average heights, you will discover those from the Netherlands are the tallest. This may be why the average weights weren't very different between the US and the Netherlands, even though fewer Dutch were overweight."
  },
  {
   "cell_type": "code",
   "id": "162e2812-8b24-45a0-9cfc-444be87d7abf",
   "metadata": {
    "language": "python",
    "name": "chi_square"
   },
   "outputs": [],
   "source": "stat, p, dof, expected = stats.chi2_contingency(ct)\nprint(f'Chi-square value    :{stat}')\nprint(f'p-value             :{p:.3g}')\nprint(f'Degrees of freedom  :{dof}')\n\nprint('Expected contingency table values:')\nprint(expected)",
   "execution_count": null
  },
  {
   "cell_type": "markdown",
   "id": "5d4c9dd3-094f-4925-891d-01a8cf5f0af5",
   "metadata": {
    "name": "interpret"
   },
   "source": "There are signifcant differences between the countries in the counts of overweight individuals among those studied."
  }
 ]
}