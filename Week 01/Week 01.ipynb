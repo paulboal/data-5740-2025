{
 "metadata": {
  "kernelspec": {
   "display_name": "Streamlit Notebook",
   "name": "streamlit"
  },
  "lastEditStatus": {
   "notebookId": "xqefa2pkyhsvdw7zn5sx",
   "authorId": "1862636791025",
   "authorName": "PBOAL2",
   "authorEmail": "pboal@wustl.edu",
   "sessionId": "c6e1edaa-dc56-4186-a3bd-0edb82ce2473",
   "lastEditTime": 1756938927375
  }
 },
 "nbformat_minor": 5,
 "nbformat": 4,
 "cells": [
  {
   "cell_type": "markdown",
   "id": "c875ae59-529f-412c-bf41-39ee281d8708",
   "metadata": {
    "name": "section_1",
    "collapsed": false
   },
   "source": "## Section 1\n\nSuppose that you have a Python list containing integers. Write a function called bucketit(L) that takes this list, creates 10 evenly spaced buckets between the min and max values, and counts the number of items that occur within each of those buckets. The output returned from the function should be a list with tuples in form (min, max, count).\n\n```python\nvals = [1, 2, 5, 7, 10, 12, 14, 18, 19, 20, 25, 30, 32, 38, 39, 40]\nbucketit(vals)\n\n[(1.0, 4.9, 2),\n (4.9, 8.8, 2),\n (8.8, 12.7, 2),\n (12.7, 16.6, 1),\n (16.6, 20.5, 3),\n (20.5, 24.4, 0),\n (24.4, 28.3, 1),\n (28.3, 32.2, 2),\n (32.2, 36.1, 0),\n (36.1, 40.0, 3)]\n```"
  },
  {
   "cell_type": "code",
   "id": "54b8b3b9-b97c-4722-8abe-b7eff8969976",
   "metadata": {
    "language": "python",
    "name": "code_1"
   },
   "outputs": [],
   "source": "def bucketit(L:list) -> list:\n    \"\"\"Split the input list into ten equal buckets or bins and count how many items are in each bin.\n\n    Keyword arguments:\n    L - a list of numbers\n\n    Returns:\n    A list of 10 tuples in the format (min, max, count)\n    \"\"\"\n    L_min = min(L)\n    L_max = max(L)\n    L_width = (L_max - L_min) / 10\n\n    bins = []\n    for i in range(10):\n        bins.append(\n            (float(L_min + (L_width * i)),\n             float(L_min + (L_width * (i+1))),\n             0)\n        )\n    \n    for item in L:\n        bin = int((item - L_min) // L_width)\n        # I was unclear about inclusive/exclusive boundaries.\n        # So, I've got a special case that allows the max value\n        # to not fall into the 11th bin.\n        bin = 9 if item == L_max else bin\n        bins[bin] = (bins[bin][0], bins[bin][1], bins[bin][2] + 1)\n\n    return bins\n    ",
   "execution_count": null
  },
  {
   "cell_type": "code",
   "id": "737c22e8-0ad6-4c2f-8111-941e2cb6fd0d",
   "metadata": {
    "language": "python",
    "name": "test_1",
    "codeCollapsed": false
   },
   "outputs": [],
   "source": "vals = [1, 2, 5, 7, 10, 12, 14, 18, 19, 20, 25, 30, 32, 38, 39, 40]\nbucketit(vals)",
   "execution_count": null
  },
  {
   "cell_type": "markdown",
   "id": "658f7bc1-8a65-4e2f-8e66-9687220f0fd2",
   "metadata": {
    "name": "section_2",
    "collapsed": false
   },
   "source": "## Section 2: Programming with AI\n1. Take the same assignment from above and plug it into your favorite AI tool.  Put the function the AI created into your Notebook and demonstrate the same test you used for your function. \n2. In a markdown cell answer the following questions:\n   1. Do you get the same results?\n   2. Are there any parts of the AI-generated code you were unfamiliar with?\n   3. What are some major differences between your code and the AI-generated code?\n3. In another markdown cell, respond to the following question:\n   1. Describe one way you think you might effectively use AI in this course.\n   2. What are the benefits of doing so?\n   3. What are the risks and challenges (both near term and in the long run) with using AI for this course?\n"
  },
  {
   "cell_type": "markdown",
   "id": "2684ab8c-96df-4949-a63a-45ac49aba4ee",
   "metadata": {
    "name": "chat_gpt",
    "collapsed": false
   },
   "source": "```python\ndef bucketit(L):\n    if not L:\n        return []\n\n    min_val, max_val = min(L), max(L)\n    bucket_size = (max_val - min_val) / 10.0\n\n    buckets = []\n    for i in range(10):\n        lower = min_val + i * bucket_size\n        upper = min_val + (i + 1) * bucket_size\n        # include right edge on final bucket\n        if i < 9:\n            count = sum(lower <= x < upper for x in L)\n        else:\n            count = sum(lower <= x <= upper for x in L)\n        buckets.append((round(lower, 1), round(upper, 1), count))\n\n    return buckets\n\n\n# Example\nvals = [1, 2, 5, 7, 10, 12, 14, 18, 19, 20, 25, 30, 32, 38, 39, 40]\nprint(bucketit(vals))\n```\n\nDo you also want me to extend this so the number of buckets is configurable (e.g., not always 10 but n buckets)?"
  },
  {
   "cell_type": "markdown",
   "id": "4d5187ac-7328-41d3-9489-7c7908e7e49b",
   "metadata": {
    "name": "observations_1",
    "collapsed": false
   },
   "source": "1. Do you get the same results?\n   * **No. The approaches are similar, but some of the AI code is more condensed.**\n2. Are there any parts of the AI-generated code you were unfamiliar with?\n   * **No. Everything there is familiar, but the use of inline loops and the between operator is interesting. I wouldn't remember to do it like that.**\n3. What are some major differences between your code and the AI-generated code?\n   * **Tighter code from AI**\n   * **Clever syntax for compactness**\n   * **Not sure the AI code is easier to read for a beginning**\n   "
  },
  {
   "cell_type": "markdown",
   "id": "6c6a279c-0864-4bf4-94c5-9aba65958d47",
   "metadata": {
    "name": "observations_2",
    "collapsed": false
   },
   "source": "1. Describe one way you think you might effectively use AI in this course.\n   * **I think we can use AI to answer questions I might otherwise have tried to lookup in a book. Maybe I can phrase things like \"I have this scenario and I'm thinking about using ABC technique. Would that be appropriate? Are there any risks of doing that over another approach?\" or \"I need help writing code to do ABC in Python. Give me some hints that will help me remember how to do that.\"**\n2. What are the benefits of doing so?\n   * **Seems like I could get clear help pretty quickly. And if I tell the AI that I'm student and want to use AI like a tutor, that might help get me instructive answers I can learn from rather than simply copy from.**\n3. What are the risks and challenges (both near term and in the long run) with using AI for this course?\n   * **It will be interesting to see if AI uses terms I'm not familiar with, yet. Or avoids using terms that I should learn.**\n   * **I need to make sure I practice the skills rather than just have AI do my work for me. And I can use AI to explore topics further than we do in class.**\n"
  }
 ]
}