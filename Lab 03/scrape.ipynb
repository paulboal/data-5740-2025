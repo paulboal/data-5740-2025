{
 "cells": [
  {
   "cell_type": "code",
   "execution_count": 3,
   "id": "60378eef",
   "metadata": {},
   "outputs": [
    {
     "data": {
      "text/plain": [
       "(91601, 67751)"
      ]
     },
     "execution_count": 3,
     "metadata": {},
     "output_type": "execute_result"
    }
   ],
   "source": [
    "import requests\n",
    "\n",
    "def wiki_plaintext(title: str) -> str:\n",
    "    url = \"https://en.wikipedia.org/w/api.php\"\n",
    "    params = {\n",
    "        \"action\": \"query\",\n",
    "        \"prop\": \"extracts\",\n",
    "        \"explaintext\": 1,\n",
    "        \"format\": \"json\",\n",
    "        \"redirects\": 1,\n",
    "        \"titles\": title\n",
    "    }\n",
    "\n",
    "    headers =  {\n",
    "        \"user-agent\": \"Mozilla/5.0 (Macintosh; Intel Mac OS X 10_15_7) AppleWebKit/537.36 (KHTML, like Gecko) Chrome/140.0.0.0 Safari/537.36\"\n",
    "    }\n",
    "\n",
    "    r = requests.get(url, headers=headers, params=params, timeout=30)\n",
    "    r.raise_for_status()\n",
    "    page = next(iter(r.json()[\"query\"][\"pages\"].values()))\n",
    "    return page[\"extract\"]\n",
    "\n",
    "carter = wiki_plaintext(\"Jimmy Carter\")\n",
    "reagan = wiki_plaintext(\"Ronald Reagan\")\n",
    "len(carter), len(reagan)"
   ]
  },
  {
   "cell_type": "code",
   "execution_count": 7,
   "id": "21363d19",
   "metadata": {},
   "outputs": [],
   "source": [
    "with open('carter.txt','w') as cf:\n",
    "    cf.write(carter)"
   ]
  },
  {
   "cell_type": "code",
   "execution_count": 8,
   "id": "dfbc0b26",
   "metadata": {},
   "outputs": [
    {
     "ename": "NameError",
     "evalue": "name 'regan' is not defined",
     "output_type": "error",
     "traceback": [
      "\u001b[0;31m---------------------------------------------------------------------------\u001b[0m",
      "\u001b[0;31mNameError\u001b[0m                                 Traceback (most recent call last)",
      "Cell \u001b[0;32mIn[8], line 2\u001b[0m\n\u001b[1;32m      1\u001b[0m \u001b[38;5;28;01mwith\u001b[39;00m \u001b[38;5;28mopen\u001b[39m(\u001b[38;5;124m'\u001b[39m\u001b[38;5;124mregan.txt\u001b[39m\u001b[38;5;124m'\u001b[39m,\u001b[38;5;124m'\u001b[39m\u001b[38;5;124mw\u001b[39m\u001b[38;5;124m'\u001b[39m) \u001b[38;5;28;01mas\u001b[39;00m rf:\n\u001b[0;32m----> 2\u001b[0m     rf\u001b[38;5;241m.\u001b[39mwrite(\u001b[43mregan\u001b[49m)\n",
      "\u001b[0;31mNameError\u001b[0m: name 'regan' is not defined"
     ]
    }
   ],
   "source": [
    "with open('regan.txt','w') as rf:\n",
    "    rf.write(regan)"
   ]
  },
  {
   "cell_type": "code",
   "execution_count": null,
   "id": "dd63a19b",
   "metadata": {},
   "outputs": [],
   "source": []
  }
 ],
 "metadata": {
  "kernelspec": {
   "display_name": "data5740",
   "language": "python",
   "name": "python3"
  },
  "language_info": {
   "codemirror_mode": {
    "name": "ipython",
    "version": 3
   },
   "file_extension": ".py",
   "mimetype": "text/x-python",
   "name": "python",
   "nbconvert_exporter": "python",
   "pygments_lexer": "ipython3",
   "version": "3.12.3"
  }
 },
 "nbformat": 4,
 "nbformat_minor": 5
}
